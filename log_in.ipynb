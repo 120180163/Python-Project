{
 "cells": [
  {
   "cell_type": "markdown",
   "metadata": {},
   "source": [
    "# Test Python"
   ]
  },
  {
   "cell_type": "code",
   "execution_count": 11,
   "metadata": {},
   "outputs": [
    {
     "name": "stdout",
     "output_type": "stream",
     "text": [
      "Holle Uesr this is abasc sig up/login\n"
     ]
    },
    {
     "name": "stdin",
     "output_type": "stream",
     "text": [
      "Enter yuor uesrnaem:  khaled nada\n",
      "Enter yuor password:  1230\n",
      "Varify yuor password:  1230\n"
     ]
    },
    {
     "name": "stdout",
     "output_type": "stream",
     "text": [
      "Good sign up\n"
     ]
    },
    {
     "name": "stdin",
     "output_type": "stream",
     "text": [
      "Enter yuor uesrnaem please: khaled nada\n",
      "Enter yuor password please: 1230\n"
     ]
    },
    {
     "name": "stdout",
     "output_type": "stream",
     "text": [
      "Yes have successfully sigin\n"
     ]
    }
   ],
   "source": [
    "print('Holle Uesr this is abasc sig up/login')\n",
    "uesr_naem = input('Enter yuor uesrnaem: ')\n",
    "password = input('Enter yuor password: ')\n",
    "passwors_varifi = input('Varify yuor password: ')\n",
    "\n",
    "if password == passwors_varifi:\n",
    "    print('Good sign up')\n",
    "    uesrnaem_current = input('Enter yuor uesrnaem please:')\n",
    "    passwod_current  = input('Enter yuor password please:')\n",
    "    if uesrnaem_current == uesr_naem and passwod_current == password:\n",
    "        print('Yes have successfully sigin')\n",
    "    else:\n",
    "        print(\"uesrnaem or password don't match please try again!\")\n",
    "        \n",
    "else:\n",
    "    print('Erroe please Try agian ')"
   ]
  },
  {
   "cell_type": "code",
   "execution_count": null,
   "metadata": {},
   "outputs": [],
   "source": []
  }
 ],
 "metadata": {
  "kernelspec": {
   "display_name": "Python 3",
   "language": "python",
   "name": "python3"
  },
  "language_info": {
   "codemirror_mode": {
    "name": "ipython",
    "version": 3
   },
   "file_extension": ".py",
   "mimetype": "text/x-python",
   "name": "python",
   "nbconvert_exporter": "python",
   "pygments_lexer": "ipython3",
   "version": "3.7.4"
  }
 },
 "nbformat": 4,
 "nbformat_minor": 4
}
